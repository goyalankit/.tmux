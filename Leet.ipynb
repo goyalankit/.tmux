{
  "nbformat": 4,
  "nbformat_minor": 0,
  "metadata": {
    "colab": {
      "name": "Leet.ipynb",
      "provenance": [],
      "authorship_tag": "ABX9TyNLT5Ib4wq2CDuaC35gdOPe",
      "include_colab_link": true
    },
    "kernelspec": {
      "name": "python3",
      "display_name": "Python 3"
    }
  },
  "cells": [
    {
      "cell_type": "markdown",
      "metadata": {
        "id": "view-in-github",
        "colab_type": "text"
      },
      "source": [
        "<a href=\"https://colab.research.google.com/github/goyalankit/.tmux/blob/master/Leet.ipynb\" target=\"_parent\"><img src=\"https://colab.research.google.com/assets/colab-badge.svg\" alt=\"Open In Colab\"/></a>"
      ]
    },
    {
      "cell_type": "code",
      "metadata": {
        "id": "CQvGZO2KR9XG",
        "colab_type": "code",
        "colab": {}
      },
      "source": [
        "import itertools"
      ],
      "execution_count": 1,
      "outputs": []
    },
    {
      "cell_type": "code",
      "metadata": {
        "id": "M4SdnOJ7SViQ",
        "colab_type": "code",
        "colab": {}
      },
      "source": [
        "#itertools.groupby()"
      ],
      "execution_count": 2,
      "outputs": []
    }
  ]
}